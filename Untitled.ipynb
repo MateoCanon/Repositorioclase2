{
 "cells": [
  {
   "cell_type": "markdown",
   "metadata": {},
   "source": [
    "### Ejercicio 3"
   ]
  },
  {
   "cell_type": "code",
   "execution_count": 2,
   "metadata": {},
   "outputs": [],
   "source": [
    "giro = \"carrera 14\""
   ]
  },
  {
   "cell_type": "code",
   "execution_count": 3,
   "metadata": {},
   "outputs": [
    {
     "name": "stdout",
     "output_type": "stream",
     "text": [
      "Gire en la carrera 14\n"
     ]
    }
   ],
   "source": [
    "if giro == \"carrera 9\":\n",
    "    print(\"Gire en la\", giro)\n",
    "if giro == \"carrera 10\":\n",
    "    print(\"Gire en la\", giro)\n",
    "if giro == \"carrera 11\":\n",
    "    print(\"Gire en la\", giro)\n",
    "if giro == \"carrera 12\":\n",
    "    print(\"Gire en la\", giro)\n",
    "if giro == \"carrera 13\":\n",
    "    print(\"Gire en la\", giro)\n",
    "if giro == \"carrera 14\":\n",
    "    print(\"Gire en la\", giro)\n",
    "if giro == \"carrera 15\":\n",
    "    print(\"Gire en la\", giro)"
   ]
  },
  {
   "cell_type": "code",
   "execution_count": 18,
   "metadata": {},
   "outputs": [],
   "source": [
    "## Ingreso de la direccion por teclado y creacion de la funcion\n",
    "\n",
    "def ejercicio3():\n",
    "    giro = input(\"ingrese la direccion: \")\n",
    "    \n",
    "    if giro == \"carrera 9\":\n",
    "        print(\"Gire en la\", giro)\n",
    "    if giro == \"carrera 10\":\n",
    "        print(\"Gire en la\", giro)\n",
    "    if giro == \"carrera 11\":\n",
    "        print(\"Gire en la\", giro)\n",
    "    if giro == \"carrera 12\":\n",
    "        print(\"Gire en la\", giro)\n",
    "    if giro == \"carrera 13\":\n",
    "        print(\"Gire en la\", giro)\n",
    "    if giro == \"carrera 14\":\n",
    "        print(\"Gire en la\", giro)\n",
    "    if giro == \"carrera 15\":\n",
    "        print(\"Gire en la\", giro)"
   ]
  },
  {
   "cell_type": "code",
   "execution_count": 19,
   "metadata": {},
   "outputs": [
    {
     "name": "stdout",
     "output_type": "stream",
     "text": [
      "ingrese la direccion: 14\n"
     ]
    }
   ],
   "source": [
    "ejercicio3()"
   ]
  },
  {
   "cell_type": "code",
   "execution_count": 22,
   "metadata": {},
   "outputs": [],
   "source": [
    "def ejercicio3(giro:str):\n",
    "    if giro == \"carrera 9\":\n",
    "        print(\"Gire en la\", giro)\n",
    "    if giro == \"carrera 10\":\n",
    "        print(\"Gire en la\", giro)\n",
    "    if giro == \"carrera 11\":\n",
    "        print(\"Gire en la\", giro)\n",
    "    if giro == \"carrera 12\":\n",
    "        print(\"Gire en la\", giro)\n",
    "    if giro == \"carrera 13\":\n",
    "        print(\"Gire en la\", giro)\n",
    "    if giro == \"carrera 14\":\n",
    "        print(\"Gire en la\", giro)\n",
    "    if giro == \"carrera 15\":\n",
    "        print(\"Gire en la\", giro)"
   ]
  },
  {
   "cell_type": "code",
   "execution_count": 24,
   "metadata": {},
   "outputs": [
    {
     "name": "stdout",
     "output_type": "stream",
     "text": [
      "Gire en la carrera 9\n"
     ]
    }
   ],
   "source": [
    "ejercicio3(\"carrera 9\")"
   ]
  },
  {
   "cell_type": "code",
   "execution_count": 25,
   "metadata": {},
   "outputs": [],
   "source": [
    "def calculadora(a:float,b:float,opc:str):\n",
    "    if opc ==\"+\":\n",
    "        c = a + b\n",
    "        print(c)\n",
    "    \n",
    "    if opc == \"-\":\n",
    "        c = a - b\n",
    "        print(c)\n",
    "    \n",
    "    if opc ==\"*\":\n",
    "        c = a * b\n",
    "        print(c)  \n",
    "    \n",
    "    if opc == \"/\":\n",
    "        if b != 0:\n",
    "            c = a / b\n",
    "            print(c)\n",
    "        else:\n",
    "            print(\"Error\")"
   ]
  },
  {
   "cell_type": "code",
   "execution_count": 27,
   "metadata": {},
   "outputs": [
    {
     "name": "stdout",
     "output_type": "stream",
     "text": [
      "-5\n"
     ]
    }
   ],
   "source": [
    "calculadora(15,20, \"-\")"
   ]
  },
  {
   "cell_type": "code",
   "execution_count": 30,
   "metadata": {},
   "outputs": [
    {
     "name": "stdout",
     "output_type": "stream",
     "text": [
      "Ingrese el valor de A5\n",
      "Ingrese el valor de B5\n",
      "Ingrese la operacion+\n",
      "10.0\n"
     ]
    }
   ],
   "source": [
    "a = float(input(\"Ingrese el valor de A\"))\n",
    "b = float(input(\"Ingrese el valor de B\"))\n",
    "opc = input(\"Ingrese la operacion\")\n",
    "\n",
    "calculadora(a,b,opc)"
   ]
  },
  {
   "cell_type": "markdown",
   "metadata": {},
   "source": [
    "### LISTA"
   ]
  },
  {
   "cell_type": "code",
   "execution_count": 37,
   "metadata": {},
   "outputs": [],
   "source": [
    "lista1 = []"
   ]
  },
  {
   "cell_type": "code",
   "execution_count": 52,
   "metadata": {},
   "outputs": [
    {
     "name": "stdout",
     "output_type": "stream",
     "text": [
      "[1, 1, 1, 1, 2, 3, 4]\n"
     ]
    }
   ],
   "source": [
    "print(lista1)"
   ]
  },
  {
   "cell_type": "code",
   "execution_count": 53,
   "metadata": {},
   "outputs": [
    {
     "name": "stdout",
     "output_type": "stream",
     "text": [
      "[1, 1, 1, 1, 2, 3, 4, 1, 2, 3, 4]\n"
     ]
    }
   ],
   "source": [
    "lista1.append(1)\n",
    "lista1.append(2)\n",
    "lista1.append(3)\n",
    "lista1.append(4)\n",
    "\n",
    "print(lista1)"
   ]
  },
  {
   "cell_type": "code",
   "execution_count": 55,
   "metadata": {},
   "outputs": [
    {
     "name": "stdout",
     "output_type": "stream",
     "text": [
      "1\n"
     ]
    }
   ],
   "source": [
    "print(lista1[2])"
   ]
  },
  {
   "cell_type": "code",
   "execution_count": 50,
   "metadata": {},
   "outputs": [],
   "source": [
    "texto = \"Esta es la clase de python basico\""
   ]
  },
  {
   "cell_type": "code",
   "execution_count": 51,
   "metadata": {},
   "outputs": [
    {
     "name": "stdout",
     "output_type": "stream",
     "text": [
      "a\n",
      "Est\n",
      "a es la clase de python basico\n",
      "Esta\n"
     ]
    }
   ],
   "source": [
    "print(texto[3])\n",
    "print(texto[:3])\n",
    "print(texto[3:])\n",
    "print(texto[0:4])"
   ]
  },
  {
   "cell_type": "markdown",
   "metadata": {},
   "source": [
    "### Ciclos repetitivos"
   ]
  },
  {
   "cell_type": "code",
   "execution_count": 56,
   "metadata": {},
   "outputs": [
    {
     "name": "stdout",
     "output_type": "stream",
     "text": [
      "1\n",
      "2\n",
      "3\n",
      "4\n",
      "5\n",
      "6\n",
      "7\n",
      "8\n",
      "9\n",
      "10\n"
     ]
    }
   ],
   "source": [
    "for i in range(1,11):\n",
    "    print(i)"
   ]
  },
  {
   "cell_type": "code",
   "execution_count": 58,
   "metadata": {},
   "outputs": [],
   "source": [
    "listaejemplo = [9,8,7,6,5,4,3,2,1]"
   ]
  },
  {
   "cell_type": "code",
   "execution_count": 59,
   "metadata": {},
   "outputs": [
    {
     "name": "stdout",
     "output_type": "stream",
     "text": [
      "9\n",
      "8\n",
      "7\n",
      "6\n",
      "5\n",
      "4\n",
      "3\n",
      "2\n",
      "1\n"
     ]
    }
   ],
   "source": [
    "for i in listaejemplo:\n",
    "    print(i)"
   ]
  },
  {
   "cell_type": "markdown",
   "metadata": {},
   "source": [
    "### Tabla de amortizacion "
   ]
  },
  {
   "cell_type": "code",
   "execution_count": 124,
   "metadata": {},
   "outputs": [],
   "source": [
    "def amortizar(d,t,n):\n",
    "    print(\"Deuda: \",d)\n",
    "    print(\"Tiempo: \",t)\n",
    "    print(\"Periodos: \",n)"
   ]
  },
  {
   "cell_type": "code",
   "execution_count": 127,
   "metadata": {},
   "outputs": [
    {
     "name": "stdout",
     "output_type": "stream",
     "text": [
      "Deuda:  5000000\n",
      "Tiempo:  11.13\n",
      "Periodos:  10\n"
     ]
    }
   ],
   "source": [
    "amortizar(5000000,11.13,10)"
   ]
  },
  {
   "cell_type": "code",
   "execution_count": 148,
   "metadata": {},
   "outputs": [],
   "source": [
    "def amortizar(**kwarg):\n",
    "     \n",
    "    print(kwarg)\n",
    "    print(\"Deuda: \", kwarg[\"d\"])\n",
    "    print(\"Tiempo: \", kwarg[\"t\"])\n",
    "    print(\"Periodos: \", kwarg[\"n\"])\n",
    "    \n",
    "    d = float(kwarg[\"d\"])\n",
    "    t = float(kwarg[\"t\"])\n",
    "    n = int(kwarg[\"n\"])\n",
    "    \n",
    "    r = (d * t) / (1-pow((1+t),-n))\n",
    "    k = 0\n",
    "    tabla = []\n",
    "    while k!= n:\n",
    "        renglon = []\n",
    "        \n",
    "        i = d * t\n",
    "        a = r - i \n",
    "        d = d - a\n",
    "        k += 1\n",
    "        renglon.append(i)\n",
    "        renglon.append(a)\n",
    "        renglon.append(d)\n",
    "        renglon.append(k)\n",
    "        tabla.append(renglon)\n",
    "        \n",
    "    for i in tabla:\n",
    "        print(i)\n",
    "        \n",
    "    \n",
    "    "
   ]
  },
  {
   "cell_type": "code",
   "execution_count": 149,
   "metadata": {},
   "outputs": [
    {
     "name": "stdout",
     "output_type": "stream",
     "text": [
      "{'d': 5000000, 't': 11.13, 'n': 10}\n",
      "Deuda:  5000000\n",
      "Tiempo:  11.13\n",
      "Periodos:  10\n",
      "[55650000.00000001, 0.0008069723844528198, 4999999.999193028, 1]\n",
      "[55649999.9910184, 0.009788580238819122, 4999999.989404447, 2]\n",
      "[55649999.8820715, 0.11873547732830048, 4999999.87066897, 3]\n",
      "[55649998.56054564, 1.4402613416314125, 4999998.430407628, 4]\n",
      "[55649982.53043691, 17.470370069146156, 4999980.960037559, 5]\n",
      "[55649788.08521804, 211.9155889376998, 4999769.044448622, 6]\n",
      "[55647429.46471316, 2570.536093816161, 4997198.508354805, 7]\n",
      "[55618819.39798899, 31180.602817989886, 4966017.9055368155, 8]\n",
      "[55271779.28862476, 378220.71218221635, 4587797.193354599, 9]\n",
      "[51062182.762036696, 4587817.238770284, -20.045415684580803, 10]\n"
     ]
    }
   ],
   "source": [
    "amortizar(d =5000000, t =11.13, n = 10)"
   ]
  },
  {
   "cell_type": "markdown",
   "metadata": {},
   "source": [
    "### Multiplicacion de vectores"
   ]
  },
  {
   "cell_type": "code",
   "execution_count": 157,
   "metadata": {
    "scrolled": true
   },
   "outputs": [
    {
     "ename": "ModuleNotFoundError",
     "evalue": "No module named 'nunpy'",
     "output_type": "error",
     "traceback": [
      "\u001b[1;31m---------------------------------------------------------------------------\u001b[0m",
      "\u001b[1;31mModuleNotFoundError\u001b[0m                       Traceback (most recent call last)",
      "\u001b[1;32m<ipython-input-157-80f37b3a8d62>\u001b[0m in \u001b[0;36m<module>\u001b[1;34m\u001b[0m\n\u001b[1;32m----> 1\u001b[1;33m \u001b[1;32mimport\u001b[0m \u001b[0mnunpy\u001b[0m \u001b[1;32mas\u001b[0m \u001b[0mnp\u001b[0m\u001b[1;33m\u001b[0m\u001b[1;33m\u001b[0m\u001b[0m\n\u001b[0m",
      "\u001b[1;31mModuleNotFoundError\u001b[0m: No module named 'nunpy'"
     ]
    }
   ],
   "source": [
    "import nunpy as np"
   ]
  },
  {
   "cell_type": "code",
   "execution_count": 155,
   "metadata": {},
   "outputs": [
    {
     "ename": "AttributeError",
     "evalue": "module 'numpy' has no attribute 'linal'",
     "output_type": "error",
     "traceback": [
      "\u001b[1;31m---------------------------------------------------------------------------\u001b[0m",
      "\u001b[1;31mAttributeError\u001b[0m                            Traceback (most recent call last)",
      "\u001b[1;32m<ipython-input-155-589b323348a5>\u001b[0m in \u001b[0;36m<module>\u001b[1;34m\u001b[0m\n\u001b[0;32m      3\u001b[0m \u001b[0mB\u001b[0m \u001b[1;33m=\u001b[0m \u001b[0mnp\u001b[0m\u001b[1;33m.\u001b[0m\u001b[0marray\u001b[0m\u001b[1;33m(\u001b[0m\u001b[1;33m[\u001b[0m\u001b[1;33m[\u001b[0m\u001b[1;36m3\u001b[0m\u001b[1;33m,\u001b[0m\u001b[1;36m4\u001b[0m\u001b[1;33m,\u001b[0m\u001b[1;36m5\u001b[0m\u001b[1;33m]\u001b[0m\u001b[1;33m,\u001b[0m\u001b[1;33m[\u001b[0m\u001b[1;36m1\u001b[0m\u001b[1;33m,\u001b[0m\u001b[1;36m1\u001b[0m\u001b[1;33m,\u001b[0m\u001b[1;36m4\u001b[0m\u001b[1;33m]\u001b[0m\u001b[1;33m,\u001b[0m\u001b[1;33m[\u001b[0m\u001b[1;36m2\u001b[0m\u001b[1;33m,\u001b[0m\u001b[1;36m1\u001b[0m\u001b[1;33m,\u001b[0m\u001b[1;36m4\u001b[0m\u001b[1;33m]\u001b[0m\u001b[1;33m]\u001b[0m\u001b[1;33m)\u001b[0m\u001b[1;33m\u001b[0m\u001b[1;33m\u001b[0m\u001b[0m\n\u001b[0;32m      4\u001b[0m \u001b[1;33m\u001b[0m\u001b[0m\n\u001b[1;32m----> 5\u001b[1;33m \u001b[0mprint\u001b[0m\u001b[1;33m(\u001b[0m\u001b[1;34m\"solucion\"\u001b[0m\u001b[1;33m,\u001b[0m \u001b[0mnp\u001b[0m\u001b[1;33m.\u001b[0m\u001b[0mlinal\u001b[0m\u001b[1;33m.\u001b[0m\u001b[0msolve\u001b[0m\u001b[1;33m(\u001b[0m\u001b[0mB\u001b[0m\u001b[1;33m,\u001b[0m\u001b[0mA\u001b[0m\u001b[1;33m)\u001b[0m\u001b[1;33m)\u001b[0m\u001b[1;33m\u001b[0m\u001b[1;33m\u001b[0m\u001b[0m\n\u001b[0m",
      "\u001b[1;32m~\\anaconda3\\lib\\site-packages\\numpy\\__init__.py\u001b[0m in \u001b[0;36m__getattr__\u001b[1;34m(attr)\u001b[0m\n\u001b[0;32m    212\u001b[0m                 \u001b[1;32mreturn\u001b[0m \u001b[0mTester\u001b[0m\u001b[1;33m\u001b[0m\u001b[1;33m\u001b[0m\u001b[0m\n\u001b[0;32m    213\u001b[0m             \u001b[1;32melse\u001b[0m\u001b[1;33m:\u001b[0m\u001b[1;33m\u001b[0m\u001b[1;33m\u001b[0m\u001b[0m\n\u001b[1;32m--> 214\u001b[1;33m                 raise AttributeError(\"module {!r} has no attribute \"\n\u001b[0m\u001b[0;32m    215\u001b[0m                                      \"{!r}\".format(__name__, attr))\n\u001b[0;32m    216\u001b[0m \u001b[1;33m\u001b[0m\u001b[0m\n",
      "\u001b[1;31mAttributeError\u001b[0m: module 'numpy' has no attribute 'linal'"
     ]
    }
   ],
   "source": [
    "A = np.array([[2,3,1],[2,-7,4]])\n",
    "\n",
    "B = np.array([[3,4,5],[1,1,4],[2,1,4]])\n",
    "\n",
    "print(\"solucion\", np.linal.solve(B,A))"
   ]
  },
  {
   "cell_type": "markdown",
   "metadata": {},
   "source": [
    "### Busqueda de Caracter"
   ]
  },
  {
   "cell_type": "code",
   "execution_count": 214,
   "metadata": {},
   "outputs": [
    {
     "ename": "TypeError",
     "evalue": "'int' object is not callable",
     "output_type": "error",
     "traceback": [
      "\u001b[1;31m---------------------------------------------------------------------------\u001b[0m",
      "\u001b[1;31mTypeError\u001b[0m                                 Traceback (most recent call last)",
      "\u001b[1;32m<ipython-input-214-7353a5fcbd97>\u001b[0m in \u001b[0;36m<module>\u001b[1;34m\u001b[0m\n\u001b[0;32m      1\u001b[0m \u001b[0mtexto1\u001b[0m \u001b[1;33m=\u001b[0m \u001b[1;34m\"Clase de python X curso basico\"\u001b[0m\u001b[1;33m\u001b[0m\u001b[1;33m\u001b[0m\u001b[0m\n\u001b[0;32m      2\u001b[0m \u001b[1;33m\u001b[0m\u001b[0m\n\u001b[1;32m----> 3\u001b[1;33m \u001b[0mprint\u001b[0m\u001b[1;33m(\u001b[0m\u001b[0mlen\u001b[0m\u001b[1;33m(\u001b[0m\u001b[0mtexto1\u001b[0m\u001b[1;33m)\u001b[0m\u001b[1;33m)\u001b[0m\u001b[1;33m\u001b[0m\u001b[1;33m\u001b[0m\u001b[0m\n\u001b[0m",
      "\u001b[1;31mTypeError\u001b[0m: 'int' object is not callable"
     ]
    }
   ],
   "source": [
    "texto = \"Clase de python X curso basico\"\n",
    "\n",
    "print(len(texto))"
   ]
  },
  {
   "cell_type": "code",
   "execution_count": 208,
   "metadata": {},
   "outputs": [],
   "source": [
    "caracter = \"x\"\n",
    "contador = 0\n",
    "for i in texto:\n",
    "    if i == caracter:\n",
    "        print(\"Lo encontre en\", contador)\n",
    "    contador += 1"
   ]
  },
  {
   "cell_type": "code",
   "execution_count": 215,
   "metadata": {},
   "outputs": [
    {
     "ename": "TypeError",
     "evalue": "'int' object is not callable",
     "output_type": "error",
     "traceback": [
      "\u001b[1;31m---------------------------------------------------------------------------\u001b[0m",
      "\u001b[1;31mTypeError\u001b[0m                                 Traceback (most recent call last)",
      "\u001b[1;32m<ipython-input-215-77d234a4d0de>\u001b[0m in \u001b[0;36m<module>\u001b[1;34m\u001b[0m\n\u001b[1;32m----> 1\u001b[1;33m \u001b[0mprint\u001b[0m\u001b[1;33m(\u001b[0m\u001b[0mtexto\u001b[0m\u001b[1;33m[\u001b[0m\u001b[1;36m9\u001b[0m\u001b[1;33m]\u001b[0m\u001b[1;33m)\u001b[0m\u001b[1;33m\u001b[0m\u001b[1;33m\u001b[0m\u001b[0m\n\u001b[0m",
      "\u001b[1;31mTypeError\u001b[0m: 'int' object is not callable"
     ]
    }
   ],
   "source": [
    "print(texto[9])"
   ]
  },
  {
   "cell_type": "code",
   "execution_count": null,
   "metadata": {},
   "outputs": [],
   "source": [
    "print(texto.find(\"p\"))"
   ]
  }
 ],
 "metadata": {
  "kernelspec": {
   "display_name": "Python 3",
   "language": "python",
   "name": "python3"
  },
  "language_info": {
   "codemirror_mode": {
    "name": "ipython",
    "version": 3
   },
   "file_extension": ".py",
   "mimetype": "text/x-python",
   "name": "python",
   "nbconvert_exporter": "python",
   "pygments_lexer": "ipython3",
   "version": "3.8.5"
  }
 },
 "nbformat": 4,
 "nbformat_minor": 4
}
